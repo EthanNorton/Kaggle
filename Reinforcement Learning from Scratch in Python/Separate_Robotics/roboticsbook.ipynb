{
 "cells": [
  {
   "cell_type": "code",
   "execution_count": 10,
   "metadata": {},
   "outputs": [
    {
     "ename": "ModuleNotFoundError",
     "evalue": "No module named 'gtsam'",
     "output_type": "error",
     "traceback": [
      "\u001b[1;31m---------------------------------------------------------------------------\u001b[0m",
      "\u001b[1;31mModuleNotFoundError\u001b[0m                       Traceback (most recent call last)",
      "Cell \u001b[1;32mIn[10], line 1\u001b[0m\n\u001b[1;32m----> 1\u001b[0m \u001b[38;5;28;01mimport\u001b[39;00m \u001b[38;5;21;01mgtsam\u001b[39;00m\n\u001b[0;32m      3\u001b[0m \u001b[38;5;66;03m# From section 3.2:\u001b[39;00m\n\u001b[0;32m      4\u001b[0m wxyz \u001b[38;5;241m=\u001b[39m gtsam\u001b[38;5;241m.\u001b[39mDiscreteBayesNet()\n",
      "\u001b[1;31mModuleNotFoundError\u001b[0m: No module named 'gtsam'"
     ]
    }
   ],
   "source": [
    "import gtsam\n",
    "\n",
    "# From section 3.2:\n",
    "wxyz = gtsam.DiscreteBayesNet()\n",
    "W1 = VARIABLES.binary(\"W\")\n",
    "X1 = VARIABLES.binary(\"X\")\n",
    "Y1 = VARIABLES.binary(\"Y\")\n",
    "Z1 = VARIABLES.binary(\"Z\")\n",
    "wxyz.add(W1, [X1, Z1], \"1/1 1/1 1/1 1/1\")\n",
    "wxyz.add(X1, [Y1, Z1], \"1/1 1/1 1/1 1/1\")\n",
    "wxyz.add(Y1, [Z1], \"1/1 1/1\")\n",
    "wxyz.add(Z1, \"1/1\")\n",
    "\n",
    "# From Section 3.3:\n",
    "N = 3\n",
    "X = VARIABLES.discrete_series(\"X\", range(1, N+1), vacuum.rooms)\n",
    "A = VARIABLES.discrete_series(\"A\", range(1, N), vacuum.action_space)\n",
    "Z = VARIABLES.discrete_series(\"Z\", range(1, N+1), vacuum.light_levels)"
   ]
  },
  {
   "cell_type": "code",
   "execution_count": 5,
   "metadata": {},
   "outputs": [
    {
     "name": "stdout",
     "output_type": "stream",
     "text": [
      "10.0\n",
      "0.0\n"
     ]
    }
   ],
   "source": [
    "def reward_function(state:int, action:int, next_state:int):\n",
    "    \"\"\"Reward that returns 10 upon entering the living room.\"\"\"\n",
    "    return 10.0 if next_state == \"Living Room\" else 0.0\n",
    "\n",
    "print(reward_function(\"Kitchen\", \"L\", \"Living Room\"))\n",
    "print(reward_function(\"Kitchen\", \"L\", \"Kitchen\"))"
   ]
  },
  {
   "cell_type": "code",
   "execution_count": 8,
   "metadata": {},
   "outputs": [
    {
     "ename": "NameError",
     "evalue": "name 'vacuum' is not defined",
     "output_type": "error",
     "traceback": [
      "\u001b[1;31m---------------------------------------------------------------------------\u001b[0m",
      "\u001b[1;31mNameError\u001b[0m                                 Traceback (most recent call last)",
      "Cell \u001b[1;32mIn[8], line 4\u001b[0m\n\u001b[0;32m      1\u001b[0m \u001b[38;5;28;01mimport\u001b[39;00m \u001b[38;5;21;01mnumpy\u001b[39;00m \u001b[38;5;28;01mas\u001b[39;00m \u001b[38;5;21;01mnp\u001b[39;00m\n\u001b[0;32m      3\u001b[0m R \u001b[38;5;241m=\u001b[39m np\u001b[38;5;241m.\u001b[39mempty((\u001b[38;5;241m5\u001b[39m, \u001b[38;5;241m4\u001b[39m, \u001b[38;5;241m5\u001b[39m), \u001b[38;5;28mfloat\u001b[39m)\n\u001b[1;32m----> 4\u001b[0m \u001b[38;5;28;01mfor\u001b[39;00m x, room_x \u001b[38;5;129;01min\u001b[39;00m \u001b[38;5;28menumerate\u001b[39m(\u001b[43mvacuum\u001b[49m\u001b[38;5;241m.\u001b[39mrooms):\n\u001b[0;32m      5\u001b[0m     \u001b[38;5;28;01mfor\u001b[39;00m a, action \u001b[38;5;129;01min\u001b[39;00m \u001b[38;5;28menumerate\u001b[39m(vacuum\u001b[38;5;241m.\u001b[39maction_space):\n\u001b[0;32m      6\u001b[0m         \u001b[38;5;28;01mfor\u001b[39;00m y, room_y \u001b[38;5;129;01min\u001b[39;00m \u001b[38;5;28menumerate\u001b[39m(vacuum\u001b[38;5;241m.\u001b[39mrooms):\n",
      "\u001b[1;31mNameError\u001b[0m: name 'vacuum' is not defined"
     ]
    }
   ],
   "source": [
    "import numpy as np\n",
    "\n",
    "R = np.empty((5, 4, 5), float)\n",
    "for x, room_x in enumerate(vacuum.rooms):\n",
    "    for a, action in enumerate(vacuum.action_space):\n",
    "        for y, room_y in enumerate(vacuum.rooms):\n",
    "            R[x, a, y] = 10.0 if room_y == \"Living Room\" else 0.0\n",
    "\n",
    "# For example, taking action \"L\" in \"Kitchen\":\n",
    "R[vacuum.rooms.index(\"Kitchen\"), vacuum.action_space.index(\"L\")]"
   ]
  },
  {
   "cell_type": "code",
   "execution_count": 6,
   "metadata": {},
   "outputs": [
    {
     "ename": "NameError",
     "evalue": "name 'gtsam' is not defined",
     "output_type": "error",
     "traceback": [
      "\u001b[1;31m---------------------------------------------------------------------------\u001b[0m",
      "\u001b[1;31mNameError\u001b[0m                                 Traceback (most recent call last)",
      "Cell \u001b[1;32mIn[6], line 1\u001b[0m\n\u001b[1;32m----> 1\u001b[0m markovChain \u001b[38;5;241m=\u001b[39m \u001b[43mgtsam\u001b[49m\u001b[38;5;241m.\u001b[39mDiscreteBayesNet()\n\u001b[0;32m      2\u001b[0m \u001b[38;5;28;01mfor\u001b[39;00m k \u001b[38;5;129;01min\u001b[39;00m \u001b[38;5;28mreversed\u001b[39m(\u001b[38;5;28mrange\u001b[39m(\u001b[38;5;241m1\u001b[39m,N)):\n\u001b[0;32m      3\u001b[0m     markovChain\u001b[38;5;241m.\u001b[39madd(X[k\u001b[38;5;241m+\u001b[39m\u001b[38;5;241m1\u001b[39m], [X[k], A[k]], vacuum\u001b[38;5;241m.\u001b[39maction_spec)\n",
      "\u001b[1;31mNameError\u001b[0m: name 'gtsam' is not defined"
     ]
    }
   ],
   "source": [
    "markovChain = gtsam.DiscreteBayesNet()\n",
    "for k in reversed(range(1,N)):\n",
    "    markovChain.add(X[k+1], [X[k], A[k]], vacuum.action_spec)"
   ]
  },
  {
   "cell_type": "code",
   "execution_count": 2,
   "metadata": {},
   "outputs": [],
   "source": [
    "def perform_rollout(x1, actions):\n",
    "    \"\"\"Roll out states given actions as a dictionary\"\"\"\n",
    "    dict = actions.copy()\n",
    "    dict[X[1]] = x1\n",
    "    given = VARIABLES.assignment(dict)\n",
    "    return markovChain.sample(given)"
   ]
  },
  {
   "cell_type": "code",
   "execution_count": 3,
   "metadata": {},
   "outputs": [
    {
     "ename": "NameError",
     "evalue": "name 'N' is not defined",
     "output_type": "error",
     "traceback": [
      "\u001b[1;31m---------------------------------------------------------------------------\u001b[0m",
      "\u001b[1;31mNameError\u001b[0m                                 Traceback (most recent call last)",
      "Cell \u001b[1;32mIn[3], line 8\u001b[0m\n\u001b[0;32m      5\u001b[0m     next_state \u001b[38;5;241m=\u001b[39m rollout[X[k\u001b[38;5;241m+\u001b[39m\u001b[38;5;241m1\u001b[39m][\u001b[38;5;241m0\u001b[39m]]\n\u001b[0;32m      6\u001b[0m     \u001b[38;5;28;01mreturn\u001b[39;00m R[state, action, next_state]\n\u001b[1;32m----> 8\u001b[0m \u001b[38;5;28;01mdef\u001b[39;00m \u001b[38;5;21mrollout_reward\u001b[39m(rollout, horizon\u001b[38;5;241m=\u001b[39m\u001b[43mN\u001b[49m, gamma\u001b[38;5;241m=\u001b[39m\u001b[38;5;241m1.0\u001b[39m):\n\u001b[0;32m      9\u001b[0m \u001b[38;5;250m    \u001b[39m\u001b[38;5;124;03m\"\"\"Calculate reward for a given rollout\"\"\"\u001b[39;00m\n\u001b[0;32m     10\u001b[0m     discounted_rewards \u001b[38;5;241m=\u001b[39m [gamma\u001b[38;5;241m*\u001b[39m\u001b[38;5;241m*\u001b[39m(k\u001b[38;5;241m-\u001b[39m\u001b[38;5;241m1\u001b[39m) \u001b[38;5;241m*\u001b[39m reward(rollout,k) \u001b[38;5;28;01mfor\u001b[39;00m k \u001b[38;5;129;01min\u001b[39;00m \u001b[38;5;28mrange\u001b[39m(\u001b[38;5;241m1\u001b[39m,horizon)]\n",
      "\u001b[1;31mNameError\u001b[0m: name 'N' is not defined"
     ]
    }
   ],
   "source": [
    "def reward(rollout, k):\n",
    "    \"\"\"Return state, action, next_state triple for given rollout at time k.\"\"\"\n",
    "    state = rollout[X[k][0]]\n",
    "    action = rollout[A[k][0]]\n",
    "    next_state = rollout[X[k+1][0]]\n",
    "    return R[state, action, next_state]\n",
    "\n",
    "def rollout_reward(rollout, horizon=N, gamma=1.0):\n",
    "    \"\"\"Calculate reward for a given rollout\"\"\"\n",
    "    discounted_rewards = [gamma**(k-1) * reward(rollout,k) for k in range(1,horizon)]\n",
    "    return sum(discounted_rewards)\n",
    "\n",
    "print(rollout_reward(rollout))"
   ]
  },
  {
   "cell_type": "code",
   "execution_count": null,
   "metadata": {},
   "outputs": [],
   "source": [
    "def control_tape_reward(x1, actions):\n",
    "    \"\"\"Calculate reward given a dictionary of actions\"\"\"\n",
    "    rollout = perform_rollout(x1, actions)\n",
    "    return rollout_reward(rollout)\n",
    "\n",
    "print([control_tape_reward(\"Office\", actions) for i in range(20)])"
   ]
  }
 ],
 "metadata": {
  "kernelspec": {
   "display_name": "Python 3",
   "language": "python",
   "name": "python3"
  },
  "language_info": {
   "codemirror_mode": {
    "name": "ipython",
    "version": 3
   },
   "file_extension": ".py",
   "mimetype": "text/x-python",
   "name": "python",
   "nbconvert_exporter": "python",
   "pygments_lexer": "ipython3",
   "version": "3.12.4"
  }
 },
 "nbformat": 4,
 "nbformat_minor": 2
}
