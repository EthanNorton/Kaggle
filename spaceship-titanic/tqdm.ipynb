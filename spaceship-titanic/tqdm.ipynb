{
 "cells": [
  {
   "cell_type": "code",
   "execution_count": 3,
   "metadata": {},
   "outputs": [
    {
     "name": "stderr",
     "output_type": "stream",
     "text": [
      "c:\\Users\\enorton\\Downloads\\Tools\\Lib\\site-packages\\tqdm\\auto.py:21: TqdmWarning: IProgress not found. Please update jupyter and ipywidgets. See https://ipywidgets.readthedocs.io/en/stable/user_install.html\n",
      "  from .autonotebook import tqdm as notebook_tqdm\n",
      "[I 2024-11-11 16:07:28,702] A new study created in memory with name: no-name-c5b8a55d-ad4f-41c3-a76f-f2160dfa6087\n",
      "c:\\Users\\enorton\\Downloads\\Tools\\Lib\\site-packages\\huggingface_hub\\file_download.py:139: UserWarning: `huggingface_hub` cache-system uses symlinks by default to efficiently store duplicated files but your machine does not support them in C:\\Users\\enorton\\.cache\\huggingface\\hub\\models--bert-base-uncased. Caching files will still work but in a degraded version that might require more space on your disk. This warning can be disabled by setting the `HF_HUB_DISABLE_SYMLINKS_WARNING` environment variable. For more details, see https://huggingface.co/docs/huggingface_hub/how-to-cache#limitations.\n",
      "To support symlinks on Windows, you either need to activate Developer Mode or to run Python as an administrator. In order to activate developer mode, see this article: https://docs.microsoft.com/en-us/windows/apps/get-started/enable-your-device-for-development\n",
      "  warnings.warn(message)\n",
      "Some weights of BertForSequenceClassification were not initialized from the model checkpoint at bert-base-uncased and are newly initialized: ['classifier.bias', 'classifier.weight']\n",
      "You should probably TRAIN this model on a down-stream task to be able to use it for predictions and inference.\n",
      "c:\\Users\\enorton\\Downloads\\Tools\\Lib\\site-packages\\transformers\\optimization.py:591: FutureWarning: This implementation of AdamW is deprecated and will be removed in a future version. Use the PyTorch implementation torch.optim.AdamW instead, or set `no_deprecation_warning=True` to disable this warning\n",
      "  warnings.warn(\n",
      "Epoch 1/3:   0%|          | 0/109 [00:00<?, ?it/s]\n",
      "[I 2024-11-11 16:08:26,412] Trial 0 finished with value: inf and parameters: {'learning_rate': 1.6093487814486677e-05, 'batch_size': 64, 'num_epochs': 3, 'max_length': 512}. Best is trial 0 with value: inf.\n"
     ]
    },
    {
     "name": "stdout",
     "output_type": "stream",
     "text": [
      "Trial failed: 6911\n"
     ]
    },
    {
     "name": "stderr",
     "output_type": "stream",
     "text": [
      "Some weights of BertForSequenceClassification were not initialized from the model checkpoint at bert-base-uncased and are newly initialized: ['classifier.bias', 'classifier.weight']\n",
      "You should probably TRAIN this model on a down-stream task to be able to use it for predictions and inference.\n",
      "Epoch 1/3:   0%|          | 0/435 [00:00<?, ?it/s]\n",
      "[I 2024-11-11 16:08:27,211] Trial 1 finished with value: inf and parameters: {'learning_rate': 1.7807462539383518e-05, 'batch_size': 16, 'num_epochs': 3, 'max_length': 512}. Best is trial 0 with value: inf.\n"
     ]
    },
    {
     "name": "stdout",
     "output_type": "stream",
     "text": [
      "Trial failed: 4714\n"
     ]
    },
    {
     "name": "stderr",
     "output_type": "stream",
     "text": [
      "Some weights of BertForSequenceClassification were not initialized from the model checkpoint at bert-base-uncased and are newly initialized: ['classifier.bias', 'classifier.weight']\n",
      "You should probably TRAIN this model on a down-stream task to be able to use it for predictions and inference.\n",
      "Epoch 1/2:   0%|          | 0/218 [00:00<?, ?it/s]\n",
      "[I 2024-11-11 16:08:27,789] Trial 2 finished with value: inf and parameters: {'learning_rate': 0.0006611694926019982, 'batch_size': 32, 'num_epochs': 2, 'max_length': 256}. Best is trial 0 with value: inf.\n"
     ]
    },
    {
     "name": "stdout",
     "output_type": "stream",
     "text": [
      "Trial failed: 1992\n"
     ]
    },
    {
     "name": "stderr",
     "output_type": "stream",
     "text": [
      "Some weights of BertForSequenceClassification were not initialized from the model checkpoint at bert-base-uncased and are newly initialized: ['classifier.bias', 'classifier.weight']\n",
      "You should probably TRAIN this model on a down-stream task to be able to use it for predictions and inference.\n",
      "Epoch 1/3:   0%|          | 0/218 [00:00<?, ?it/s]\n",
      "[I 2024-11-11 16:08:28,282] Trial 3 finished with value: inf and parameters: {'learning_rate': 9.019962351075856e-05, 'batch_size': 32, 'num_epochs': 3, 'max_length': 128}. Best is trial 0 with value: inf.\n"
     ]
    },
    {
     "name": "stdout",
     "output_type": "stream",
     "text": [
      "Trial failed: 3820\n"
     ]
    },
    {
     "name": "stderr",
     "output_type": "stream",
     "text": [
      "Some weights of BertForSequenceClassification were not initialized from the model checkpoint at bert-base-uncased and are newly initialized: ['classifier.bias', 'classifier.weight']\n",
      "You should probably TRAIN this model on a down-stream task to be able to use it for predictions and inference.\n",
      "Epoch 1/5:   0%|          | 0/109 [00:00<?, ?it/s]\n",
      "[I 2024-11-11 16:08:28,877] Trial 4 finished with value: inf and parameters: {'learning_rate': 1.1498238533492045e-05, 'batch_size': 64, 'num_epochs': 5, 'max_length': 128}. Best is trial 0 with value: inf.\n"
     ]
    },
    {
     "name": "stdout",
     "output_type": "stream",
     "text": [
      "Trial failed: 2164\n"
     ]
    },
    {
     "name": "stderr",
     "output_type": "stream",
     "text": [
      "Some weights of BertForSequenceClassification were not initialized from the model checkpoint at bert-base-uncased and are newly initialized: ['classifier.bias', 'classifier.weight']\n",
      "You should probably TRAIN this model on a down-stream task to be able to use it for predictions and inference.\n",
      "Epoch 1/2:   0%|          | 0/435 [00:00<?, ?it/s]\n",
      "[I 2024-11-11 16:08:29,411] Trial 5 finished with value: inf and parameters: {'learning_rate': 2.1475292359823386e-05, 'batch_size': 16, 'num_epochs': 2, 'max_length': 256}. Best is trial 0 with value: inf.\n"
     ]
    },
    {
     "name": "stdout",
     "output_type": "stream",
     "text": [
      "Trial failed: 1183\n"
     ]
    },
    {
     "name": "stderr",
     "output_type": "stream",
     "text": [
      "Some weights of BertForSequenceClassification were not initialized from the model checkpoint at bert-base-uncased and are newly initialized: ['classifier.bias', 'classifier.weight']\n",
      "You should probably TRAIN this model on a down-stream task to be able to use it for predictions and inference.\n",
      "Epoch 1/4:   0%|          | 0/218 [00:00<?, ?it/s]\n",
      "[I 2024-11-11 16:08:29,920] Trial 6 finished with value: inf and parameters: {'learning_rate': 1.3341103624029123e-05, 'batch_size': 32, 'num_epochs': 4, 'max_length': 256}. Best is trial 0 with value: inf.\n"
     ]
    },
    {
     "name": "stdout",
     "output_type": "stream",
     "text": [
      "Trial failed: 2273\n"
     ]
    },
    {
     "name": "stderr",
     "output_type": "stream",
     "text": [
      "Some weights of BertForSequenceClassification were not initialized from the model checkpoint at bert-base-uncased and are newly initialized: ['classifier.bias', 'classifier.weight']\n",
      "You should probably TRAIN this model on a down-stream task to be able to use it for predictions and inference.\n",
      "Epoch 1/4:   0%|          | 0/435 [00:00<?, ?it/s]\n",
      "[I 2024-11-11 16:08:30,391] Trial 7 finished with value: inf and parameters: {'learning_rate': 0.0004012448082479393, 'batch_size': 16, 'num_epochs': 4, 'max_length': 512}. Best is trial 0 with value: inf.\n"
     ]
    },
    {
     "name": "stdout",
     "output_type": "stream",
     "text": [
      "Trial failed: 3121\n"
     ]
    },
    {
     "name": "stderr",
     "output_type": "stream",
     "text": [
      "Some weights of BertForSequenceClassification were not initialized from the model checkpoint at bert-base-uncased and are newly initialized: ['classifier.bias', 'classifier.weight']\n",
      "You should probably TRAIN this model on a down-stream task to be able to use it for predictions and inference.\n",
      "Epoch 1/4:   0%|          | 0/435 [00:00<?, ?it/s]\n",
      "[I 2024-11-11 16:08:30,875] Trial 8 finished with value: inf and parameters: {'learning_rate': 0.00014786895183268036, 'batch_size': 16, 'num_epochs': 4, 'max_length': 256}. Best is trial 0 with value: inf.\n"
     ]
    },
    {
     "name": "stdout",
     "output_type": "stream",
     "text": [
      "Trial failed: 5662\n"
     ]
    },
    {
     "name": "stderr",
     "output_type": "stream",
     "text": [
      "Some weights of BertForSequenceClassification were not initialized from the model checkpoint at bert-base-uncased and are newly initialized: ['classifier.bias', 'classifier.weight']\n",
      "You should probably TRAIN this model on a down-stream task to be able to use it for predictions and inference.\n",
      "Epoch 1/3:   0%|          | 0/109 [00:00<?, ?it/s]\n",
      "[I 2024-11-11 16:08:31,369] Trial 9 finished with value: inf and parameters: {'learning_rate': 0.00035285347919807654, 'batch_size': 64, 'num_epochs': 3, 'max_length': 512}. Best is trial 0 with value: inf.\n"
     ]
    },
    {
     "name": "stdout",
     "output_type": "stream",
     "text": [
      "Trial failed: 5670\n"
     ]
    },
    {
     "name": "stderr",
     "output_type": "stream",
     "text": [
      "Some weights of BertForSequenceClassification were not initialized from the model checkpoint at bert-base-uncased and are newly initialized: ['classifier.bias', 'classifier.weight']\n",
      "You should probably TRAIN this model on a down-stream task to be able to use it for predictions and inference.\n",
      "Epoch 1/5:   0%|          | 0/109 [00:00<?, ?it/s]\n",
      "[I 2024-11-11 16:08:31,915] Trial 10 finished with value: inf and parameters: {'learning_rate': 4.2991168353868866e-05, 'batch_size': 64, 'num_epochs': 5, 'max_length': 512}. Best is trial 0 with value: inf.\n"
     ]
    },
    {
     "name": "stdout",
     "output_type": "stream",
     "text": [
      "Trial failed: 970\n"
     ]
    },
    {
     "name": "stderr",
     "output_type": "stream",
     "text": [
      "Some weights of BertForSequenceClassification were not initialized from the model checkpoint at bert-base-uncased and are newly initialized: ['classifier.bias', 'classifier.weight']\n",
      "You should probably TRAIN this model on a down-stream task to be able to use it for predictions and inference.\n",
      "Epoch 1/3:   0%|          | 0/435 [00:00<?, ?it/s]\n",
      "[I 2024-11-11 16:08:32,354] Trial 11 finished with value: inf and parameters: {'learning_rate': 3.427327410567354e-05, 'batch_size': 16, 'num_epochs': 3, 'max_length': 512}. Best is trial 0 with value: inf.\n"
     ]
    },
    {
     "name": "stdout",
     "output_type": "stream",
     "text": [
      "Trial failed: 1957\n"
     ]
    },
    {
     "name": "stderr",
     "output_type": "stream",
     "text": [
      "Some weights of BertForSequenceClassification were not initialized from the model checkpoint at bert-base-uncased and are newly initialized: ['classifier.bias', 'classifier.weight']\n",
      "You should probably TRAIN this model on a down-stream task to be able to use it for predictions and inference.\n",
      "Epoch 1/3:   0%|          | 0/109 [00:00<?, ?it/s]\n",
      "[I 2024-11-11 16:08:32,824] Trial 12 finished with value: inf and parameters: {'learning_rate': 6.117736231259217e-05, 'batch_size': 64, 'num_epochs': 3, 'max_length': 512}. Best is trial 0 with value: inf.\n"
     ]
    },
    {
     "name": "stdout",
     "output_type": "stream",
     "text": [
      "Trial failed: 4812\n"
     ]
    },
    {
     "name": "stderr",
     "output_type": "stream",
     "text": [
      "Some weights of BertForSequenceClassification were not initialized from the model checkpoint at bert-base-uncased and are newly initialized: ['classifier.bias', 'classifier.weight']\n",
      "You should probably TRAIN this model on a down-stream task to be able to use it for predictions and inference.\n",
      "Epoch 1/2:   0%|          | 0/435 [00:00<?, ?it/s]\n",
      "[I 2024-11-11 16:08:33,317] Trial 13 finished with value: inf and parameters: {'learning_rate': 2.5427811565479325e-05, 'batch_size': 16, 'num_epochs': 2, 'max_length': 512}. Best is trial 0 with value: inf.\n"
     ]
    },
    {
     "name": "stdout",
     "output_type": "stream",
     "text": [
      "Trial failed: 5156\n"
     ]
    },
    {
     "name": "stderr",
     "output_type": "stream",
     "text": [
      "Some weights of BertForSequenceClassification were not initialized from the model checkpoint at bert-base-uncased and are newly initialized: ['classifier.bias', 'classifier.weight']\n",
      "You should probably TRAIN this model on a down-stream task to be able to use it for predictions and inference.\n",
      "Epoch 1/3:   0%|          | 0/109 [00:00<?, ?it/s]\n",
      "[I 2024-11-11 16:08:33,780] Trial 14 finished with value: inf and parameters: {'learning_rate': 1.0392343488054326e-05, 'batch_size': 64, 'num_epochs': 3, 'max_length': 512}. Best is trial 0 with value: inf.\n"
     ]
    },
    {
     "name": "stdout",
     "output_type": "stream",
     "text": [
      "Trial failed: 87\n"
     ]
    },
    {
     "name": "stderr",
     "output_type": "stream",
     "text": [
      "Some weights of BertForSequenceClassification were not initialized from the model checkpoint at bert-base-uncased and are newly initialized: ['classifier.bias', 'classifier.weight']\n",
      "You should probably TRAIN this model on a down-stream task to be able to use it for predictions and inference.\n",
      "Epoch 1/4:   0%|          | 0/109 [00:00<?, ?it/s]\n",
      "[I 2024-11-11 16:08:34,264] Trial 15 finished with value: inf and parameters: {'learning_rate': 2.138113911095935e-05, 'batch_size': 64, 'num_epochs': 4, 'max_length': 512}. Best is trial 0 with value: inf.\n"
     ]
    },
    {
     "name": "stdout",
     "output_type": "stream",
     "text": [
      "Trial failed: 1233\n"
     ]
    },
    {
     "name": "stderr",
     "output_type": "stream",
     "text": [
      "Some weights of BertForSequenceClassification were not initialized from the model checkpoint at bert-base-uncased and are newly initialized: ['classifier.bias', 'classifier.weight']\n",
      "You should probably TRAIN this model on a down-stream task to be able to use it for predictions and inference.\n",
      "Epoch 1/2:   0%|          | 0/435 [00:00<?, ?it/s]\n",
      "[I 2024-11-11 16:08:34,755] Trial 16 finished with value: inf and parameters: {'learning_rate': 0.00015158465155308494, 'batch_size': 16, 'num_epochs': 2, 'max_length': 128}. Best is trial 0 with value: inf.\n"
     ]
    },
    {
     "name": "stdout",
     "output_type": "stream",
     "text": [
      "Trial failed: 3296\n"
     ]
    },
    {
     "name": "stderr",
     "output_type": "stream",
     "text": [
      "Some weights of BertForSequenceClassification were not initialized from the model checkpoint at bert-base-uncased and are newly initialized: ['classifier.bias', 'classifier.weight']\n",
      "You should probably TRAIN this model on a down-stream task to be able to use it for predictions and inference.\n",
      "Epoch 1/3:   0%|          | 0/435 [00:00<?, ?it/s]\n",
      "[I 2024-11-11 16:08:35,297] Trial 17 finished with value: inf and parameters: {'learning_rate': 5.646914255787812e-05, 'batch_size': 16, 'num_epochs': 3, 'max_length': 512}. Best is trial 0 with value: inf.\n"
     ]
    },
    {
     "name": "stdout",
     "output_type": "stream",
     "text": [
      "Trial failed: 472\n"
     ]
    },
    {
     "name": "stderr",
     "output_type": "stream",
     "text": [
      "Some weights of BertForSequenceClassification were not initialized from the model checkpoint at bert-base-uncased and are newly initialized: ['classifier.bias', 'classifier.weight']\n",
      "You should probably TRAIN this model on a down-stream task to be able to use it for predictions and inference.\n",
      "Epoch 1/4:   0%|          | 0/109 [00:00<?, ?it/s]\n",
      "[I 2024-11-11 16:08:35,882] Trial 18 finished with value: inf and parameters: {'learning_rate': 1.7790914161323355e-05, 'batch_size': 64, 'num_epochs': 4, 'max_length': 512}. Best is trial 0 with value: inf.\n"
     ]
    },
    {
     "name": "stdout",
     "output_type": "stream",
     "text": [
      "Trial failed: 4446\n"
     ]
    },
    {
     "name": "stderr",
     "output_type": "stream",
     "text": [
      "Some weights of BertForSequenceClassification were not initialized from the model checkpoint at bert-base-uncased and are newly initialized: ['classifier.bias', 'classifier.weight']\n",
      "You should probably TRAIN this model on a down-stream task to be able to use it for predictions and inference.\n",
      "Epoch 1/2:   0%|          | 0/218 [00:00<?, ?it/s]\n",
      "[I 2024-11-11 16:08:36,345] Trial 19 finished with value: inf and parameters: {'learning_rate': 3.2217837349490723e-05, 'batch_size': 32, 'num_epochs': 2, 'max_length': 128}. Best is trial 0 with value: inf.\n"
     ]
    },
    {
     "name": "stdout",
     "output_type": "stream",
     "text": [
      "Trial failed: 5973\n",
      "Best parameters: {'learning_rate': 1.6093487814486677e-05, 'batch_size': 64, 'num_epochs': 3, 'max_length': 512}\n",
      "Best validation loss: inf\n"
     ]
    },
    {
     "name": "stderr",
     "output_type": "stream",
     "text": [
      "Some weights of BertForSequenceClassification were not initialized from the model checkpoint at bert-base-uncased and are newly initialized: ['classifier.bias', 'classifier.weight']\n",
      "You should probably TRAIN this model on a down-stream task to be able to use it for predictions and inference.\n",
      "Epoch 1/3:   0%|          | 0/136 [00:00<?, ?it/s]"
     ]
    },
    {
     "ename": "",
     "evalue": "",
     "output_type": "error",
     "traceback": [
      "\u001b[1;31mThe Kernel crashed while executing code in the current cell or a previous cell. \n",
      "\u001b[1;31mPlease review the code in the cell(s) to identify a possible cause of the failure. \n",
      "\u001b[1;31mClick <a href='https://aka.ms/vscodeJupyterKernelCrash'>here</a> for more info. \n",
      "\u001b[1;31mView Jupyter <a href='command:jupyter.viewOutput'>log</a> for further details."
     ]
    }
   ],
   "source": [
    "import pandas as pd\n",
    "import numpy as np\n",
    "import torch\n",
    "from torch.utils.data import Dataset, DataLoader\n",
    "from transformers import AutoTokenizer, AutoModelForSequenceClassification, AdamW\n",
    "from sklearn.model_selection import train_test_split\n",
    "import optuna\n",
    "from tqdm import tqdm\n",
    "\n",
    "# Set random seed for reproducibility\n",
    "torch.manual_seed(42)\n",
    "device = torch.device('cuda' if torch.cuda.is_available() else 'cpu')\n",
    "\n",
    "# Load data\n",
    "train_data = pd.read_csv('train.csv')\n",
    "test_data = pd.read_csv('test.csv')\n",
    "\n",
    "# Create text input by combining relevant features\n",
    "def create_text_input(df):\n",
    "    return df.apply(lambda x: f\"HomePlanet: {x['HomePlanet']} CryoSleep: {x['CryoSleep']} \\\n",
    "        Destination: {x['Destination']} VIP: {x['VIP']} Age: {x['Age']} \\\n",
    "        RoomService: {x['RoomService']} FoodCourt: {x['FoodCourt']} \\\n",
    "        ShoppingMall: {x['ShoppingMall']} Spa: {x['Spa']} VRDeck: {x['VRDeck']}\", axis=1)\n",
    "\n",
    "# Custom Dataset class\n",
    "class SpaceshipDataset(Dataset):\n",
    "    def __init__(self, texts, labels, tokenizer, max_length):\n",
    "        self.texts = texts\n",
    "        self.labels = labels\n",
    "        self.tokenizer = tokenizer\n",
    "        self.max_length = max_length\n",
    "    \n",
    "    def __len__(self):\n",
    "        return len(self.texts)\n",
    "    \n",
    "    def __getitem__(self, idx):\n",
    "        text = str(self.texts[idx])\n",
    "        encoding = self.tokenizer(\n",
    "            text,\n",
    "            add_special_tokens=True,\n",
    "            max_length=self.max_length,\n",
    "            return_token_type_ids=False,\n",
    "            padding='max_length',\n",
    "            truncation=True,\n",
    "            return_attention_mask=True,\n",
    "            return_tensors='pt'\n",
    "        )\n",
    "        \n",
    "        return {\n",
    "            'input_ids': encoding['input_ids'].flatten(),\n",
    "            'attention_mask': encoding['attention_mask'].flatten(),\n",
    "            'labels': torch.tensor(self.labels[idx], dtype=torch.long)\n",
    "        }\n",
    "\n",
    "# Training function\n",
    "def train_model(model, train_loader, val_loader, optimizer, device, num_epochs):\n",
    "    best_val_loss = float('inf')\n",
    "    \n",
    "    for epoch in range(num_epochs):\n",
    "        model.train()\n",
    "        total_train_loss = 0\n",
    "        \n",
    "        for batch in tqdm(train_loader, desc=f'Epoch {epoch + 1}/{num_epochs}'):\n",
    "            input_ids = batch['input_ids'].to(device)\n",
    "            attention_mask = batch['attention_mask'].to(device)\n",
    "            labels = batch['labels'].to(device)\n",
    "            \n",
    "            optimizer.zero_grad()\n",
    "            outputs = model(input_ids=input_ids, attention_mask=attention_mask, labels=labels)\n",
    "            loss = outputs.loss\n",
    "            total_train_loss += loss.item()\n",
    "            \n",
    "            loss.backward()\n",
    "            optimizer.step()\n",
    "        \n",
    "        # Validation\n",
    "        model.eval()\n",
    "        total_val_loss = 0\n",
    "        \n",
    "        with torch.no_grad():\n",
    "            for batch in val_loader:\n",
    "                input_ids = batch['input_ids'].to(device)\n",
    "                attention_mask = batch['attention_mask'].to(device)\n",
    "                labels = batch['labels'].to(device)\n",
    "                \n",
    "                outputs = model(input_ids=input_ids, attention_mask=attention_mask, labels=labels)\n",
    "                total_val_loss += outputs.loss.item()\n",
    "        \n",
    "        avg_val_loss = total_val_loss / len(val_loader)\n",
    "        if avg_val_loss < best_val_loss:\n",
    "            best_val_loss = avg_val_loss\n",
    "            \n",
    "    return best_val_loss\n",
    "\n",
    "# Objective function for Optuna\n",
    "def objective(trial):\n",
    "    # Define hyperparameters to optimize\n",
    "    params = {\n",
    "        'learning_rate': trial.suggest_float('learning_rate', 1e-5, 1e-3, log=True),\n",
    "        'batch_size': trial.suggest_categorical('batch_size', [16, 32, 64]),\n",
    "        'num_epochs': trial.suggest_int('num_epochs', 2, 5),\n",
    "        'max_length': trial.suggest_categorical('max_length', [128, 256, 512])\n",
    "    }\n",
    "    \n",
    "    # Create datasets\n",
    "    train_texts = create_text_input(X_train)\n",
    "    val_texts = create_text_input(X_val)\n",
    "    \n",
    "    # Initialize tokenizer and model\n",
    "    tokenizer = AutoTokenizer.from_pretrained('bert-base-uncased')\n",
    "    model = AutoModelForSequenceClassification.from_pretrained(\n",
    "        'bert-base-uncased', \n",
    "        num_labels=2\n",
    "    ).to(device)\n",
    "    \n",
    "    # Create datasets and dataloaders\n",
    "    train_dataset = SpaceshipDataset(\n",
    "        train_texts, \n",
    "        y_train, \n",
    "        tokenizer, \n",
    "        params['max_length']\n",
    "    )\n",
    "    val_dataset = SpaceshipDataset(\n",
    "        val_texts, \n",
    "        y_val, \n",
    "        tokenizer, \n",
    "        params['max_length']\n",
    "    )\n",
    "    \n",
    "    train_loader = DataLoader(\n",
    "        train_dataset, \n",
    "        batch_size=params['batch_size'], \n",
    "        shuffle=True\n",
    "    )\n",
    "    val_loader = DataLoader(\n",
    "        val_dataset, \n",
    "        batch_size=params['batch_size']\n",
    "    )\n",
    "    \n",
    "    # Initialize optimizer\n",
    "    optimizer = AdamW(model.parameters(), lr=params['learning_rate'])\n",
    "    \n",
    "    # Train and evaluate\n",
    "    try:\n",
    "        best_val_loss = train_model(\n",
    "            model, \n",
    "            train_loader, \n",
    "            val_loader, \n",
    "            optimizer, \n",
    "            device, \n",
    "            params['num_epochs']\n",
    "        )\n",
    "        return best_val_loss\n",
    "    except Exception as e:\n",
    "        print(f\"Trial failed: {e}\")\n",
    "        return float('inf')\n",
    "\n",
    "# Prepare data\n",
    "X = train_data.drop('Transported', axis=1)\n",
    "y = train_data['Transported'].astype(int)\n",
    "X_train, X_val, y_train, y_val = train_test_split(X, y, test_size=0.2, random_state=42)\n",
    "\n",
    "# Run Optuna optimization\n",
    "study = optuna.create_study(direction='minimize')\n",
    "study.optimize(objective, n_trials=20)  # Adjust number of trials as needed\n",
    "\n",
    "# Print best parameters\n",
    "print(\"Best parameters:\", study.best_params)\n",
    "print(\"Best validation loss:\", study.best_value)\n",
    "\n",
    "# Train final model with best parameters\n",
    "best_params = study.best_params\n",
    "\n",
    "# Initialize final model and tokenizer\n",
    "tokenizer = AutoTokenizer.from_pretrained('bert-base-uncased')\n",
    "final_model = AutoModelForSequenceClassification.from_pretrained(\n",
    "    'bert-base-uncased',\n",
    "    num_labels=2\n",
    ").to(device)\n",
    "\n",
    "# Create final datasets\n",
    "train_texts = create_text_input(X)\n",
    "test_texts = create_text_input(test_data)\n",
    "\n",
    "train_dataset = SpaceshipDataset(\n",
    "    train_texts,\n",
    "    y,\n",
    "    tokenizer,\n",
    "    best_params['max_length']\n",
    ")\n",
    "test_dataset = SpaceshipDataset(\n",
    "    test_texts,\n",
    "    [0] * len(test_data),  # Dummy labels for test set\n",
    "    tokenizer,\n",
    "    best_params['max_length']\n",
    ")\n",
    "\n",
    "# Create final dataloaders\n",
    "train_loader = DataLoader(\n",
    "    train_dataset,\n",
    "    batch_size=best_params['batch_size'],\n",
    "    shuffle=True\n",
    ")\n",
    "test_loader = DataLoader(\n",
    "    test_dataset,\n",
    "    batch_size=best_params['batch_size']\n",
    ")\n",
    "\n",
    "# Train final model\n",
    "optimizer = AdamW(final_model.parameters(), lr=best_params['learning_rate'])\n",
    "train_model(final_model, train_loader, test_loader, optimizer, device, best_params['num_epochs'])\n",
    "\n",
    "# Make predictions\n",
    "final_model.eval()\n",
    "predictions = []\n",
    "\n",
    "with torch.no_grad():\n",
    "    for batch in test_loader:\n",
    "        input_ids = batch['input_ids'].to(device)\n",
    "        attention_mask = batch['attention_mask'].to(device)\n",
    "        \n",
    "        outputs = final_model(input_ids=input_ids, attention_mask=attention_mask)\n",
    "        predictions.extend(torch.argmax(outputs.logits, dim=1).cpu().numpy())\n",
    "\n",
    "# Create submission file\n",
    "submission = pd.DataFrame({\n",
    "    'PassengerId': test_data['PassengerId'],\n",
    "    'Transported': np.array(predictions).astype(bool)\n",
    "})\n",
    "\n",
    "# Save submission\n",
    "submission.to_csv('sample_submission.csv', index=False)"
   ]
  }
 ],
 "metadata": {
  "kernelspec": {
   "display_name": "Python 3",
   "language": "python",
   "name": "python3"
  },
  "language_info": {
   "codemirror_mode": {
    "name": "ipython",
    "version": 3
   },
   "file_extension": ".py",
   "mimetype": "text/x-python",
   "name": "python",
   "nbconvert_exporter": "python",
   "pygments_lexer": "ipython3",
   "version": "3.12.4"
  }
 },
 "nbformat": 4,
 "nbformat_minor": 2
}
